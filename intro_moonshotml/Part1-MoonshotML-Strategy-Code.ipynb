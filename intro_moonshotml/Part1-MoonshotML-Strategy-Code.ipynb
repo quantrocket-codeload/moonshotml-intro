{
 "cells": [
  {
   "cell_type": "markdown",
   "metadata": {},
   "source": [
    "<a href=\"https://www.quantrocket.com\"><img alt=\"QuantRocket logo\" src=\"https://www.quantrocket.com/assets/img/notebook-header-logo.png\"></a><br>\n",
    "<a href=\"https://www.quantrocket.com/disclaimer/\">Disclaimer</a>"
   ]
  },
  {
   "cell_type": "markdown",
   "metadata": {},
   "source": [
    "***\n",
    "[MoonshotML Intro](Introduction.ipynb) › Part 1: MoonshotML Code\n",
    "***"
   ]
  },
  {
   "cell_type": "markdown",
   "metadata": {},
   "source": [
    "# MoonshotML Strategy Code"
   ]
  },
  {
   "cell_type": "markdown",
   "metadata": {},
   "source": [
    "The basic workflow of a machine learning strategy is as follows:\n",
    "\n",
    "* use prices, fundamentals, or other data to create features and targets for your model (features are the predictors, for example past returns, and targets are what you want to predict, for example future returns)\n",
    "* choose and customize a machine learning model\n",
    "* train the model with your features and targets\n",
    "* use the model's predictions to generate trading signals\n",
    "\n",
    "Let's see how to use this workflow with MoonshotML."
   ]
  },
  {
   "cell_type": "markdown",
   "metadata": {},
   "source": [
    "## How a MoonshotML backtest works\n",
    "\n",
    "A simple MoonshotML strategy is provided in [demo-ml.py](demo-ml.py).\n",
    "\n",
    "Machine learning strategies inherit from the `MoonshotML` class:\n",
    "\n",
    "```python\n",
    "from moonshot import MoonshotML\n",
    "\n",
    "class DemoMLStrategy(MoonshotML):\n",
    "\n",
    "    CODE = \"demo-ml\"\n",
    "    DB = \"usstock-free-1d\"\n",
    "    DB_FIELDS = [\"Open\", \"Close\"]\n",
    "    UNIVERSES = \"usstock-free\"\n",
    "    ...\n",
    "```\n",
    "\n",
    "`MoonshotML` is a subclass of the `Moonshot` class and shares much of its functionality. However, instead of defining a `prices_to_signals` method as with a standard Moonshot strategy, a machine learning strategy should define two methods for generating signals: `prices_to_features` and `predictions_to_signals`.\n",
    "\n",
    "The `prices_to_features` method takes a DataFrame of prices and should return a tuple of features and targets that will be used to train the machine learning model. In our demo strategy, we calculate each security's percent return over a variety of lookback windows as our set of features. For targets, we calculate whether the security's 1-month forward return is above or below the median 1-month forward return for all securities.\n",
    "\n",
    "```python\n",
    "class DemoMLStrategy(MoonshotML):\n",
    "\n",
    "    ...\n",
    "    LOOKBACK_WINDOWS = [1,2,3,4,5,6,7,8,9,10,12,14,16,18,20,30,40,50,60,80,100,125,150,175,200]\n",
    "    FORWARD_RETURNS_WINDOW = 22\n",
    "\n",
    "    def prices_to_features(self, prices):\n",
    "        \"\"\"\n",
    "        Creates features and targets for training and backtesting the model.\n",
    "        \"\"\"\n",
    "        closes = prices.loc[\"Close\"]\n",
    "        opens = prices.loc[\"Open\"]\n",
    "\n",
    "        # FEATURES\n",
    "        features = {}\n",
    "        \n",
    "        for n in self.LOOKBACK_WINDOWS:\n",
    "            features[f'return_{n}'] = closes.pct_change(n)\n",
    "  \n",
    "        # TARGET\n",
    "        returns = opens.pct_change(self.FORWARD_RETURNS_WINDOW)\n",
    "        \n",
    "        # Calculate median cross-sectional returns (a Series)... \n",
    "        median_returns = returns.median(axis=1)\n",
    "        # ...and broadcast back to shape of original DataFrame \n",
    "        median_returns = closes.apply(lambda x: median_returns)\n",
    "        \n",
    "        # Find stocks which will outperfom in the future\n",
    "        outperformers = returns > median_returns\n",
    "        targets = outperformers.shift(-self.FORWARD_RETURNS_WINDOW).fillna(False).astype(int)\n",
    "\n",
    "        ...\n",
    "```\n",
    "\n",
    "The other method that is unique to `MoonshotML` is `predictions_to_signals`. After the model is trained on the features and targets from `prices_to_features` in the training period of the walk-forward optimization, the model is used to make predictions on new data in the subsequent test period. The model's predictions during the test period are fed to the `predictions_to_signals` method, where we use them to generate signals. In our demo strategy, we select the 3 stocks with the highest probability of outperforming the cross-sectional median and rebalance monthly:\n",
    "\n",
    "```python\n",
    "    TOP_N = 3\n",
    "    REBALANCE_INTERVAL = \"M\" # M = monthly;\n",
    "    ...\n",
    "\n",
    "    def predictions_to_signals(self, predictions, prices):\n",
    "        \"\"\"\n",
    "        Turn a DataFrame of prediction probabilities into a DataFrame of signals.\n",
    "        \"\"\"\n",
    "        # Rank by probability of outperforming \n",
    "        winner_ranks = predictions.rank(axis=1, ascending=False)\n",
    "        \n",
    "        signals = winner_ranks <= self.TOP_N\n",
    "        signals = signals.astype(int)\n",
    "        \n",
    "        # Resample using the rebalancing interval.\n",
    "        # Keep only the last signal of the month, then fill it forward\n",
    "        signals = signals.resample(self.REBALANCE_INTERVAL).last()\n",
    "        signals = signals.reindex(predictions.index, method=\"ffill\")\n",
    "        \n",
    "        return signals\n",
    "```\n",
    "\n",
    "Once we've generated signals, the rest of a `MoonshotML` strategy is identical to a `Moonshot` strategy. \n",
    "\n",
    "See the [usage guide](https://www.quantrocket.com/docs/#ml) for more detail about how a MoonshotML backtest works."
   ]
  },
  {
   "cell_type": "markdown",
   "metadata": {},
   "source": [
    "## Install ML strategy file\n",
    "To \"install\" the strategy, execute the following cell to move the strategy file to the `/codeload/moonshot` directory, where MoonshotML looks:\n",
    "\n",
    "> The ! sytax below lets us execute terminal commands from inside the notebook."
   ]
  },
  {
   "cell_type": "code",
   "execution_count": 1,
   "metadata": {},
   "outputs": [],
   "source": [
    "!mv demo-ml.py /codeload/moonshot/"
   ]
  },
  {
   "cell_type": "markdown",
   "metadata": {},
   "source": [
    "***\n",
    "\n",
    "## *Next Up*\n",
    "\n",
    "Part 2: [Model Selection](Part2-Model-Selection.ipynb)"
   ]
  }
 ],
 "metadata": {
  "kernelspec": {
   "display_name": "Python 3.11",
   "language": "python",
   "name": "python3"
  },
  "language_info": {
   "codemirror_mode": {
    "name": "ipython",
    "version": 3
   },
   "file_extension": ".py",
   "mimetype": "text/x-python",
   "name": "python",
   "nbconvert_exporter": "python",
   "pygments_lexer": "ipython3",
   "version": "3.11.0"
  }
 },
 "nbformat": 4,
 "nbformat_minor": 4
}
