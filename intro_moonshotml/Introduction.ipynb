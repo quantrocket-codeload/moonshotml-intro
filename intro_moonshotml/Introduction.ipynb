{
 "cells": [
  {
   "cell_type": "markdown",
   "metadata": {},
   "source": [
    "<a href=\"https://www.quantrocket.com\"><img alt=\"QuantRocket logo\" src=\"https://www.quantrocket.com/assets/img/notebook-header-logo.png\"></a><br>\n",
    "<a href=\"https://www.quantrocket.com/disclaimer/\">Disclaimer</a>"
   ]
  },
  {
   "cell_type": "markdown",
   "metadata": {},
   "source": [
    "# Getting Started with MoonshotML\n",
    "\n",
    "This tutorial shows you how to use MoonshotML to backtest a simple machine learning strategy that trains a random forest model with past returns to predict future returns.\n",
    "\n",
    "## Prerequisites\n",
    "\n",
    "MoonshotML is built on Moonshot, QuantRocket's pandas-based backtester. This tutorial assumes that you have already completed the Moonshot intro tutorial. If you haven't yet completed it, execute the following cell to access it:"
   ]
  },
  {
   "cell_type": "code",
   "execution_count": null,
   "metadata": {},
   "outputs": [],
   "source": [
    "from quantrocket.codeload import clone\n",
    "clone(\"moonshot-intro\")"
   ]
  },
  {
   "cell_type": "markdown",
   "metadata": {},
   "source": [
    "The MoonshotML tutorial utilizes the same historical database and sample universe created in the `moonshot-intro` tutorial. Execute the following cell to verify that you have the necessary database and universe available:"
   ]
  },
  {
   "cell_type": "code",
   "execution_count": null,
   "metadata": {},
   "outputs": [],
   "source": [
    "from quantrocket.history import list_databases\n",
    "from quantrocket.master import get_securities, NoMasterData\n",
    "\n",
    "assert \"usstock-free-1d\" in list_databases(), \"usstock-free-1d database is needed but not present, please see the moonshot-intro tutorial\"\n",
    "try:\n",
    "    get_securities(universes=\"usstock-free\")\n",
    "except NoMasterData:\n",
    "    print(\"usstock-free universe is needed but not present, please see the moonshot-intro tutorial\")\n",
    "else:\n",
    "    print(\"usstock-free-1d database and usstock-free universe are present, you're all set!\")"
   ]
  },
  {
   "cell_type": "markdown",
   "metadata": {},
   "source": [
    "## Tutorial\n",
    "\n",
    "* Part 1: [MoonshotML Strategy Code](Part1-MoonshotML-Strategy-Code.ipynb)\n",
    "* Part 2: [Model Selection](Part2-Model-Selection.ipynb)\n",
    "* Part 3: [Walk-forward Optimization](Part3-Walkforward-Optimization.ipynb)"
   ]
  }
 ],
 "metadata": {
  "kernelspec": {
   "display_name": "Python 3.11",
   "language": "python",
   "name": "python3"
  },
  "language_info": {
   "codemirror_mode": {
    "name": "ipython",
    "version": 3
   },
   "file_extension": ".py",
   "mimetype": "text/x-python",
   "name": "python",
   "nbconvert_exporter": "python",
   "pygments_lexer": "ipython3",
   "version": "3.11.0"
  }
 },
 "nbformat": 4,
 "nbformat_minor": 4
}
